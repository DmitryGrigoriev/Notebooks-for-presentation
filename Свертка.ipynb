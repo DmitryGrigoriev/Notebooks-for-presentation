{
 "cells": [
  {
   "cell_type": "code",
   "execution_count": 1,
   "metadata": {
    "collapsed": true,
    "hide_input": true
   },
   "outputs": [],
   "source": [
    "from IPython.core.display import display, HTML"
   ]
  },
  {
   "cell_type": "code",
   "execution_count": 2,
   "metadata": {
    "hide_input": true
   },
   "outputs": [
    {
     "data": {
      "text/html": [
       "\n",
       "<style>\n",
       ".output {\n",
       "    display: flex;\n",
       "    align-items: center;\n",
       "    text-align: center;\n",
       "}\n",
       "</style>\n"
      ],
      "text/plain": [
       "<IPython.core.display.HTML object>"
      ]
     },
     "metadata": {},
     "output_type": "display_data"
    }
   ],
   "source": [
    "display(HTML(\"\"\"\n",
    "<style>\n",
    ".output {\n",
    "    display: flex;\n",
    "    align-items: center;\n",
    "    text-align: center;\n",
    "}\n",
    "</style>\n",
    "\"\"\"))"
   ]
  },
  {
   "cell_type": "markdown",
   "metadata": {},
   "source": [
    "# Двумерные свертки."
   ]
  },
  {
   "cell_type": "markdown",
   "metadata": {},
   "source": [
    "$\\text{Исходное изображение представляется в виде двумерной матрицы $5\\times5$, ядро размерности $3\\times3$.}$"
   ]
  },
  {
   "cell_type": "markdown",
   "metadata": {},
   "source": [
    "$$\\begin{equation*}\n",
    "    \\begin{pmatrix}\n",
    "        3& 3& 2& 1& 0\\\\\n",
    "        0& 0& 1& 3& 1\\\\\n",
    "        3& 1& 2& 2& 3\\\\\n",
    "        2& 0& 0& 2& 2\\\\\n",
    "        2& 0& 0& 0& 1\\\\\n",
    "    \\end{pmatrix}\n",
    "    ,\n",
    "    \\\n",
    "    \\begin{pmatrix}\n",
    "        0& 1& 2\\\\\n",
    "        2& 2& 0\\\\\n",
    "        0& 1& 2\\\\\n",
    "    \\end{pmatrix}\n",
    "  \\end{equation*}$$"
   ]
  },
  {
   "cell_type": "markdown",
   "metadata": {},
   "source": [
    "$\\text{Ядро “скользит” над двумерным изображением, поэлементно выполняя операцию умножения и суммируя все в один пиксель.}$"
   ]
  },
  {
   "cell_type": "code",
   "execution_count": 3,
   "metadata": {
    "hide_input": true
   },
   "outputs": [
    {
     "data": {
      "text/html": [
       "<img class=\"wp-image-1024\" src=\"https://neurohive.io/wp-content/uploads/2018/07/convolutional-neural-network.gif\" alt=\"сверточная нейронная сеть пример\" width=\"500\" height=\"250\">"
      ],
      "text/plain": [
       "<IPython.core.display.HTML object>"
      ]
     },
     "metadata": {},
     "output_type": "display_data"
    }
   ],
   "source": [
    "display(HTML('<img class=\"wp-image-1024\" src=\"https://neurohive.io/wp-content/uploads/2018/07/convolutional-neural-network.gif\" alt=\"сверточная нейронная сеть пример\" width=\"500\" height=\"250\">'))"
   ]
  },
  {
   "cell_type": "code",
   "execution_count": 4,
   "metadata": {
    "hide_input": true
   },
   "outputs": [
    {
     "data": {
      "text/html": [
       "<img class=\"wp-image-1023\" src=\"https://neurohive.io/wp-content/uploads/2018/07/2d-covolutions.gif\" alt=\"сверточная нейронная сеть\" width=\"400\" height=\"250\">"
      ],
      "text/plain": [
       "<IPython.core.display.HTML object>"
      ]
     },
     "metadata": {},
     "output_type": "display_data"
    }
   ],
   "source": [
    "display(HTML('<img class=\"wp-image-1023\" src=\"https://neurohive.io/wp-content/uploads/2018/07/2d-covolutions.gif\" alt=\"сверточная нейронная сеть\" width=\"400\" height=\"250\">'))"
   ]
  },
  {
   "cell_type": "markdown",
   "metadata": {},
   "source": [
    "$\\text{Число параметров свертки равно 9.}$"
   ]
  },
  {
   "cell_type": "markdown",
   "metadata": {},
   "source": [
    "# Padding."
   ]
  },
  {
   "cell_type": "markdown",
   "metadata": {},
   "source": [
    "$\\text{Настоящие пиксели при скольжении оказывались в своем центре. Выходная матрица того же размера, что и входная.}$"
   ]
  },
  {
   "cell_type": "code",
   "execution_count": 5,
   "metadata": {
    "hide_input": true
   },
   "outputs": [
    {
     "data": {
      "text/html": [
       "<img class=\"wp-image-1035\" src=\"https://neurohive.io/wp-content/uploads/2018/07/operacija-svertki-neiroseti.gif\" alt=\"padding нейронной сети\" width=\"500\" height=\"250\">"
      ],
      "text/plain": [
       "<IPython.core.display.HTML object>"
      ]
     },
     "metadata": {},
     "output_type": "display_data"
    }
   ],
   "source": [
    "display(HTML('<img class=\"wp-image-1035\" src=\"https://neurohive.io/wp-content/uploads/2018/07/operacija-svertki-neiroseti.gif\" alt=\"padding нейронной сети\" width=\"500\" height=\"250\">'))"
   ]
  },
  {
   "cell_type": "markdown",
   "metadata": {},
   "source": [
    "$\\text{Число параметров свертки не изменилось.}$"
   ]
  },
  {
   "cell_type": "markdown",
   "metadata": {},
   "source": [
    "## Strading."
   ]
  },
  {
   "cell_type": "markdown",
   "metadata": {},
   "source": [
    "$\\text{Используется для сокращения исходной размерности. Идея состоит в пропуске областей, над которым скользит ядро.}$"
   ]
  },
  {
   "cell_type": "code",
   "execution_count": 6,
   "metadata": {
    "hide_input": true
   },
   "outputs": [
    {
     "data": {
      "text/html": [
       "<img class=\"wp-image-1029\" src=\"https://neurohive.io/wp-content/uploads/2018/07/vtoroi-jetap-svertki.gif\" alt=\"striding сверточная нейронная сеть\" width=\"500\" height=\"250\">"
      ],
      "text/plain": [
       "<IPython.core.display.HTML object>"
      ]
     },
     "metadata": {},
     "output_type": "display_data"
    }
   ],
   "source": [
    "display(HTML('<img class=\"wp-image-1029\" src=\"https://neurohive.io/wp-content/uploads/2018/07/vtoroi-jetap-svertki.gif\" alt=\"striding сверточная нейронная сеть\" width=\"500\" height=\"250\">'))"
   ]
  },
  {
   "cell_type": "markdown",
   "metadata": {},
   "source": [
    "$\\text{Число параметров свертки стало равным 4.}$"
   ]
  },
  {
   "cell_type": "markdown",
   "metadata": {},
   "source": [
    "# Dilated convolution."
   ]
  },
  {
   "cell_type": "markdown",
   "metadata": {},
   "source": [
    "$\\text{Скользящее ядро с пропусками с пропусками.}$"
   ]
  },
  {
   "cell_type": "code",
   "execution_count": 7,
   "metadata": {
    "hide_input": true
   },
   "outputs": [
    {
     "data": {
      "text/html": [
       "<img class=\"progressiveMedia-image js-progressiveMedia-image\" data-src=\"https://cdn-images-1.medium.com/max/600/1*SVkgHoFoiMZkjy54zM_SUw.gif\" src=\"https://cdn-images-1.medium.com/max/600/1*SVkgHoFoiMZkjy54zM_SUw.gif\" width=\"500\" height=\"250\">"
      ],
      "text/plain": [
       "<IPython.core.display.HTML object>"
      ]
     },
     "metadata": {},
     "output_type": "display_data"
    }
   ],
   "source": [
    "display(HTML('<img class=\"progressiveMedia-image js-progressiveMedia-image\" data-src=\"https://cdn-images-1.medium.com/max/600/1*SVkgHoFoiMZkjy54zM_SUw.gif\" src=\"https://cdn-images-1.medium.com/max/600/1*SVkgHoFoiMZkjy54zM_SUw.gif\" width=\"500\" height=\"250\">'))"
   ]
  },
  {
   "cell_type": "markdown",
   "metadata": {},
   "source": [
    "$\\text{Размерность ядра осталось $5\\times 5$, но число параметров сократилось до 9.}$"
   ]
  },
  {
   "cell_type": "markdown",
   "metadata": {},
   "source": [
    "# Separable convolution."
   ]
  },
  {
   "cell_type": "markdown",
   "metadata": {},
   "source": [
    "## Spatial separable convolution. "
   ]
  },
  {
   "cell_type": "markdown",
   "metadata": {},
   "source": [
    "$\\text{Фильтр Собеля. Используется для детектирования границ. }$"
   ]
  },
  {
   "cell_type": "markdown",
   "metadata": {},
   "source": [
    "$$\\begin{pmatrix}\n",
    "        -1& 0& 1\\\\\n",
    "        -2& 0& 2\\\\\n",
    "        -1& 0& 1\\\\\n",
    "    \\end{pmatrix}\n",
    "$$"
   ]
  },
  {
   "cell_type": "markdown",
   "metadata": {},
   "source": [
    "$\\text{Фильтр Собеля раскладывается в композицию двух сверток меньшей размерности. Число параметров падает с 9 до 6.  }$"
   ]
  },
  {
   "cell_type": "markdown",
   "metadata": {
    "collapsed": true
   },
   "source": [
    "$$\\begin{equation*}\n",
    "    \\begin{pmatrix}\n",
    "        -1& 0& 1\\\\\n",
    "        -2& 0& 2\\\\\n",
    "        -1& 0& 1\\\\\n",
    "    \\end{pmatrix}\n",
    "    \\\n",
    "    =\n",
    "    \\\n",
    "    \\begin{pmatrix}\n",
    "        1\\\\\n",
    "        2\\\\\n",
    "        1\\\\\n",
    "    \\end{pmatrix}\n",
    "    \\\n",
    "    \\times\n",
    "    \\\n",
    "    \\begin{pmatrix}\n",
    "        -1& 0& 1\\\\\n",
    "    \\end{pmatrix}\n",
    "\\end{equation*}$$"
   ]
  },
  {
   "cell_type": "markdown",
   "metadata": {},
   "source": [
    "## Depth-wise convolution."
   ]
  },
  {
   "cell_type": "code",
   "execution_count": 8,
   "metadata": {
    "hide_input": true
   },
   "outputs": [
    {
     "data": {
      "text/html": [
       "<img src=\"https://cdncontribute.geeksforgeeks.org/wp-content/uploads/1-79.jpg\" alt=\"\" width=\"701\" height=\"281\" class=\"aligncenter size-full wp-image-584421\">"
      ],
      "text/plain": [
       "<IPython.core.display.HTML object>"
      ]
     },
     "metadata": {},
     "output_type": "display_data"
    }
   ],
   "source": [
    "display(HTML('<img src=\"https://cdncontribute.geeksforgeeks.org/wp-content/uploads/1-79.jpg\" alt=\"\" width=\"701\" height=\"281\" class=\"aligncenter size-full wp-image-584421\">'))"
   ]
  },
  {
   "cell_type": "markdown",
   "metadata": {},
   "source": [
    "$\\text{Число параметров в одной свертке - $Dk\\cdot Dk\\cdot M$ }$"
   ]
  },
  {
   "cell_type": "markdown",
   "metadata": {},
   "source": [
    "$\\text{Всего таких сверток $N$, поэтому всего произведений будет -  $N \\cdot\\ Dp^2\\cdot Dk^2\\cdot M$ } $"
   ]
  },
  {
   "cell_type": "code",
   "execution_count": 9,
   "metadata": {
    "hide_input": true
   },
   "outputs": [
    {
     "data": {
      "text/html": [
       "<img src=\"https://cdncontribute.geeksforgeeks.org/wp-content/uploads/2-229.png\" alt=\"\" width=\"651\" height=\"191\" class=\"aligncenter size-full wp-image-584422\">"
      ],
      "text/plain": [
       "<IPython.core.display.HTML object>"
      ]
     },
     "metadata": {},
     "output_type": "display_data"
    }
   ],
   "source": [
    "display(HTML('<img src=\"https://cdncontribute.geeksforgeeks.org/wp-content/uploads/2-229.png\" alt=\"\" width=\"651\" height=\"191\" class=\"aligncenter size-full wp-image-584422\">'))"
   ]
  },
  {
   "cell_type": "markdown",
   "metadata": {},
   "source": [
    "$\\text{Число параметров в одной свертке - $Dk\\cdot Dk\\cdot 1$ }$"
   ]
  },
  {
   "cell_type": "markdown",
   "metadata": {},
   "source": [
    "$\\text{Фильтр проходит $Dp^2$ раз по $M$ фильтрам, поэтому всего параметров будет - $Dp^2\\cdot Dk^2\\cdot M$. }$"
   ]
  },
  {
   "cell_type": "markdown",
   "metadata": {},
   "source": [
    "# 1 x 1 convolution."
   ]
  },
  {
   "cell_type": "markdown",
   "metadata": {},
   "source": [
    "$\\text{Число каналов равно 1. Число параметров равно 27}$"
   ]
  },
  {
   "cell_type": "code",
   "execution_count": 10,
   "metadata": {
    "hide_input": true
   },
   "outputs": [
    {
     "data": {
      "text/html": [
       "<img class=\"landscape ui_qtext_image zoomable_in zoomable_in_feed\" src=\"https://qph.fs.quoracdn.net/main-qimg-543980c1c593016c48331ba0b399ea34\" master_src=\"https://qph.fs.quoracdn.net/main-qimg-0748ef0445f5c2e533882b58de408331\" master_w=\"2446\" master_h=\"974\">"
      ],
      "text/plain": [
       "<IPython.core.display.HTML object>"
      ]
     },
     "metadata": {},
     "output_type": "display_data"
    }
   ],
   "source": [
    "display(HTML('<img class=\"landscape ui_qtext_image zoomable_in zoomable_in_feed\" src=\"https://qph.fs.quoracdn.net/main-qimg-543980c1c593016c48331ba0b399ea34\" master_src=\"https://qph.fs.quoracdn.net/main-qimg-0748ef0445f5c2e533882b58de408331\" master_w=\"2446\" master_h=\"974\">'))"
   ]
  },
  {
   "cell_type": "markdown",
   "metadata": {},
   "source": [
    "$\\text{Число каналов равно 1, но мы сохранили исходную размерность. При этом число параметров снизилось до 3}$"
   ]
  },
  {
   "cell_type": "code",
   "execution_count": 11,
   "metadata": {
    "hide_input": true
   },
   "outputs": [
    {
     "data": {
      "text/html": [
       "<img class=\"landscape ui_qtext_image zoomable_in zoomable_in_feed\" src=\"https://qph.fs.quoracdn.net/main-qimg-3d412cacb0435a8e56eda709ae26795f\" master_src=\"https://qph.fs.quoracdn.net/main-qimg-013c5e1bac766f3e1bbe655c9a460a5e\" master_w=\"2400\" master_h=\"906\">"
      ],
      "text/plain": [
       "<IPython.core.display.HTML object>"
      ]
     },
     "metadata": {},
     "output_type": "display_data"
    }
   ],
   "source": [
    "display(HTML('<img class=\"landscape ui_qtext_image zoomable_in zoomable_in_feed\" src=\"https://qph.fs.quoracdn.net/main-qimg-3d412cacb0435a8e56eda709ae26795f\" master_src=\"https://qph.fs.quoracdn.net/main-qimg-013c5e1bac766f3e1bbe655c9a460a5e\" master_w=\"2400\" master_h=\"906\">'))"
   ]
  },
  {
   "cell_type": "markdown",
   "metadata": {},
   "source": [
    "$\\text{Число каналов стало равным 2 с изменением исходной размерности. Число параметров равно 6.}$"
   ]
  },
  {
   "cell_type": "code",
   "execution_count": 13,
   "metadata": {
    "hide_input": true
   },
   "outputs": [
    {
     "data": {
      "text/html": [
       "<img class=\"landscape ui_qtext_image zoomable_in zoomable_in_feed\" src=\"https://qph.fs.quoracdn.net/main-qimg-0b3c4bbc86cc5c73efb8dbf2c699265a\" master_src=\"https://qph.fs.quoracdn.net/main-qimg-24fbaee18aaaeec47107ac80f4eb5737\" master_w=\"2478\" master_h=\"894\">"
      ],
      "text/plain": [
       "<IPython.core.display.HTML object>"
      ]
     },
     "metadata": {},
     "output_type": "display_data"
    }
   ],
   "source": [
    "display(HTML('<img class=\"landscape ui_qtext_image zoomable_in zoomable_in_feed\" src=\"https://qph.fs.quoracdn.net/main-qimg-0b3c4bbc86cc5c73efb8dbf2c699265a\" master_src=\"https://qph.fs.quoracdn.net/main-qimg-24fbaee18aaaeec47107ac80f4eb5737\" master_w=\"2478\" master_h=\"894\">'))"
   ]
  }
 ],
 "metadata": {
  "kernelspec": {
   "display_name": "Python 3",
   "language": "python",
   "name": "python3"
  },
  "language_info": {
   "codemirror_mode": {
    "name": "ipython",
    "version": 3
   },
   "file_extension": ".py",
   "mimetype": "text/x-python",
   "name": "python",
   "nbconvert_exporter": "python",
   "pygments_lexer": "ipython3",
   "version": "3.6.3"
  },
  "widgets": {
   "application/vnd.jupyter.widget-state+json": {
    "state": {},
    "version_major": 2,
    "version_minor": 0
   }
  }
 },
 "nbformat": 4,
 "nbformat_minor": 2
}
